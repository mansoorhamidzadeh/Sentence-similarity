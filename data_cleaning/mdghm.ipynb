{
 "cells": [
  {
   "cell_type": "code",
   "execution_count": 1,
   "id": "initial_id",
   "metadata": {
    "collapsed": true,
    "ExecuteTime": {
     "end_time": "2024-02-17T05:51:23.754438571Z",
     "start_time": "2024-02-17T05:51:23.470733872Z"
    }
   },
   "outputs": [],
   "source": [
    "import pandas as pd\n",
    "import numpy as np\n"
   ]
  },
  {
   "cell_type": "code",
   "outputs": [],
   "source": [
    "dataset=pd.read_csv('../datasets/tasks_report (17).csv')"
   ],
   "metadata": {
    "collapsed": false,
    "ExecuteTime": {
     "end_time": "2024-02-17T05:51:44.942761610Z",
     "start_time": "2024-02-17T05:51:44.905008342Z"
    }
   },
   "id": "d70c04faae2bc487",
   "execution_count": 2
  },
  {
   "cell_type": "code",
   "outputs": [],
   "source": [
    "da=dataset[dataset['نام پروژه'].str.contains('واحد تولید')][\"عنوان کار\"]\n",
    "da.reset_index(drop=True,inplace=True)"
   ],
   "metadata": {
    "collapsed": false,
    "ExecuteTime": {
     "end_time": "2024-02-17T06:05:24.766339623Z",
     "start_time": "2024-02-17T06:05:24.720083711Z"
    }
   },
   "id": "adf64b027680df93",
   "execution_count": 10
  },
  {
   "cell_type": "code",
   "outputs": [
    {
     "data": {
      "text/plain": "0            ویرایش اطلاعات کاربران از طریق ایمپورت فایل\n1      اصلاحات مربوط به عدم نمایش فیلد کارشناس در ثبت...\n2      ارسال پیامک با توجه به داکیومنت راهنمای پیوست شده\n3      اصلاح لایسنس به نحویکه به mac address وابسته ن...\n4                                          کارهای متفرقه\n                             ...                        \n920                                   آپدیت زیر دامنه ها\n921       ایجاد دکمه برای بازگرداندن وضعیت به حالت اولیه\n922    در پنل مدیریت چارت سازمانی از ماژول‌های پایه ب...\n923                                   تغیییر بعضی فریزها\n924               افزودن درگاه پرداخت سداد به سایت همتیک\nName: عنوان کار, Length: 925, dtype: object"
     },
     "execution_count": 11,
     "metadata": {},
     "output_type": "execute_result"
    }
   ],
   "source": [
    "da"
   ],
   "metadata": {
    "collapsed": false,
    "ExecuteTime": {
     "end_time": "2024-02-17T06:05:25.560302081Z",
     "start_time": "2024-02-17T06:05:25.540483550Z"
    }
   },
   "id": "41efef63ed5bed57",
   "execution_count": 11
  },
  {
   "cell_type": "code",
   "outputs": [],
   "source": [
    "da.to_csv('xx.csv', index=False, encoding='utf-8')"
   ],
   "metadata": {
    "collapsed": false,
    "ExecuteTime": {
     "end_time": "2024-02-17T06:06:23.464035073Z",
     "start_time": "2024-02-17T06:06:23.416053115Z"
    }
   },
   "id": "5709fe24b465c1ab",
   "execution_count": 12
  },
  {
   "cell_type": "code",
   "outputs": [],
   "source": [],
   "metadata": {
    "collapsed": false
   },
   "id": "8f1081e50b34c7e5"
  }
 ],
 "metadata": {
  "kernelspec": {
   "display_name": "Python 3",
   "language": "python",
   "name": "python3"
  },
  "language_info": {
   "codemirror_mode": {
    "name": "ipython",
    "version": 2
   },
   "file_extension": ".py",
   "mimetype": "text/x-python",
   "name": "python",
   "nbconvert_exporter": "python",
   "pygments_lexer": "ipython2",
   "version": "2.7.6"
  }
 },
 "nbformat": 4,
 "nbformat_minor": 5
}
