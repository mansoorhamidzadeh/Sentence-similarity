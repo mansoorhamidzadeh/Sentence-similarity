{
 "cells": [
  {
   "cell_type": "code",
   "execution_count": 2,
   "id": "initial_id",
   "metadata": {
    "collapsed": true,
    "ExecuteTime": {
     "end_time": "2024-02-07T06:53:10.667531781Z",
     "start_time": "2024-02-07T06:53:10.662349406Z"
    }
   },
   "outputs": [],
   "source": [
    "import pandas as pd\n",
    "import numpy as np\n",
    "import cleantext\n",
    "from hazm import *\n",
    "from cleantext import clean\n",
    "import regex as re\n",
    "import hazm"
   ]
  },
  {
   "cell_type": "code",
   "outputs": [],
   "source": [
    "dataset=pd.read_csv('')"
   ],
   "metadata": {
    "collapsed": false
   },
   "id": "2cdaee4b364836b3"
  }
 ],
 "metadata": {
  "kernelspec": {
   "display_name": "Python 3",
   "language": "python",
   "name": "python3"
  },
  "language_info": {
   "codemirror_mode": {
    "name": "ipython",
    "version": 2
   },
   "file_extension": ".py",
   "mimetype": "text/x-python",
   "name": "python",
   "nbconvert_exporter": "python",
   "pygments_lexer": "ipython2",
   "version": "2.7.6"
  }
 },
 "nbformat": 4,
 "nbformat_minor": 5
}
