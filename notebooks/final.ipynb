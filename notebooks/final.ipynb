{
 "cells": [
  {
   "cell_type": "code",
   "execution_count": 2,
   "id": "e59634ce9c3b65d9",
   "metadata": {
    "collapsed": false,
    "ExecuteTime": {
     "end_time": "2024-02-14T07:20:18.435537170Z",
     "start_time": "2024-02-14T07:20:18.143015927Z"
    }
   },
   "outputs": [],
   "source": [
    "import warnings\n",
    "warnings.filterwarnings('ignore')\n",
    "\n",
    "from gensim.models import KeyedVectors\n",
    "import numpy as np\n",
    "import pandas as pd\n",
    "import regex as re\n",
    "import torch\n",
    "from farsi_tools import stop_words\n",
    "from hazm import word_tokenize, Lemmatizer\n",
    "from pymongo import MongoClient\n",
    "from sentence_transformers import util\n",
    "from symspellpy import SymSpell, Verbosity\n",
    "from tqdm import tqdm\n",
    "from const.constance import *\n",
    "\n",
    "\n",
    "lemmatizer = Lemmatizer()"
   ]
  },
  {
   "cell_type": "markdown",
   "source": [
    "\n",
    "# STOP WORD"
   ],
   "metadata": {
    "collapsed": false
   },
   "id": "4f7c77a87b83e36c"
  },
  {
   "cell_type": "code",
   "outputs": [],
   "source": [
    "with open(stopword_path, encoding=\"utf8\") as f:\n",
    "    stop = f.readlines()\n",
    "# cleaning stopwords\n",
    "stop_word = [word.replace('\\n', '') for word in stop]\n",
    "stop_word = [re.sub('[\\\\u200c]', ' ', word) for word in stop_word]\n",
    "stop_word.extend(stop_words())"
   ],
   "metadata": {
    "collapsed": false,
    "ExecuteTime": {
     "end_time": "2024-02-14T07:20:18.572899292Z",
     "start_time": "2024-02-14T07:20:18.436289680Z"
    }
   },
   "id": "809d5e464de0f548",
   "execution_count": 3
  },
  {
   "cell_type": "markdown",
   "source": [
    "\n",
    "# mongo db"
   ],
   "metadata": {
    "collapsed": false
   },
   "id": "2a02083f5fd62333"
  },
  {
   "cell_type": "code",
   "outputs": [],
   "source": [
    "def context_mongo(collection_name):\n",
    "    client = MongoClient(host=host, port=port)\n",
    "    client_my = client['nlp']\n",
    "    my_coll = client_my[collection_name]\n",
    "    return my_coll"
   ],
   "metadata": {
    "collapsed": false,
    "ExecuteTime": {
     "end_time": "2024-02-14T07:20:18.576190981Z",
     "start_time": "2024-02-14T07:20:18.468815697Z"
    }
   },
   "id": "af4243d203e0764",
   "execution_count": 4
  },
  {
   "cell_type": "markdown",
   "source": [
    "p# ==ol"
   ],
   "metadata": {
    "collapsed": false
   },
   "id": "d3c244294e25495c"
  },
  {
   "cell_type": "code",
   "outputs": [],
   "source": [
    "def load_glove_model(glove_file):\n",
    "    print(\"loading glove model\")\n",
    "    model = KeyedVectors.load_word2vec_format(glove_file, binary=False)\n",
    "    print(f\"loaded glove model , {len(model)}\")\n",
    "    return model"
   ],
   "metadata": {
    "collapsed": false,
    "ExecuteTime": {
     "end_time": "2024-02-14T07:20:18.611979128Z",
     "start_time": "2024-02-14T07:20:18.476907566Z"
    }
   },
   "id": "158789c508936a54",
   "execution_count": 5
  },
  {
   "cell_type": "code",
   "outputs": [
    {
     "name": "stdout",
     "output_type": "stream",
     "text": [
      "loading glove model\n",
      "loaded glove model , 240548\n"
     ]
    }
   ],
   "source": [
    "model = load_glove_model(glove_path)"
   ],
   "metadata": {
    "collapsed": false,
    "ExecuteTime": {
     "end_time": "2024-02-14T07:20:29.438740601Z",
     "start_time": "2024-02-14T07:20:18.489213616Z"
    }
   },
   "id": "585a8ae0ed3a0c63",
   "execution_count": 6
  },
  {
   "cell_type": "markdown",
   "source": [
    "# spell checker"
   ],
   "metadata": {
    "collapsed": false
   },
   "id": "dabb2dbbca5ad531"
  },
  {
   "cell_type": "code",
   "outputs": [
    {
     "data": {
      "text/plain": "True"
     },
     "execution_count": 7,
     "metadata": {},
     "output_type": "execute_result"
    }
   ],
   "source": [
    "sym_spell = SymSpell(max_dictionary_edit_distance=3, prefix_length=8)\n",
    "sym_spell.load_dictionary(dictionary_path, term_index=0, count_index=1)"
   ],
   "metadata": {
    "collapsed": false,
    "ExecuteTime": {
     "end_time": "2024-02-14T07:20:37.584810436Z",
     "start_time": "2024-02-14T07:20:29.354122829Z"
    }
   },
   "id": "945388cf874c129c",
   "execution_count": 7
  },
  {
   "cell_type": "markdown",
   "source": [
    "# word 2 vector sy"
   ],
   "metadata": {
    "collapsed": false
   },
   "id": "8f63a1016287ab41"
  },
  {
   "cell_type": "code",
   "outputs": [],
   "source": [
    "word2vec_model = KeyedVectors.load_word2vec_format(word2vec_cbow_path, binary=True)"
   ],
   "metadata": {
    "collapsed": false,
    "ExecuteTime": {
     "end_time": "2024-02-14T07:20:41.223139261Z",
     "start_time": "2024-02-14T07:20:37.585519385Z"
    }
   },
   "id": "645fa766192b1d21",
   "execution_count": 8
  },
  {
   "cell_type": "code",
   "outputs": [],
   "source": [
    "test = \"تعیین مقادیر پیش فرض در ماژول جلسات\"\n",
    "test1 = \"تعیین مقادیر پیش فرض در افزونه جلسات\"\n",
    "text = \"ویدئو انیمیشن برای همکارات بفرست\""
   ],
   "metadata": {
    "collapsed": false,
    "ExecuteTime": {
     "end_time": "2024-02-14T07:20:41.255808424Z",
     "start_time": "2024-02-14T07:20:41.224799729Z"
    }
   },
   "id": "8a6efae14b0e9174",
   "execution_count": 9
  },
  {
   "cell_type": "code",
   "outputs": [
    {
     "data": {
      "text/plain": "[('ERP', 0.8689835667610168),\n ('اتوماسیون', 0.8578999042510986),\n ('راهبری', 0.8481571078300476),\n ('ICT', 0.8443616628646851),\n ('کسب\\u200cوکار', 0.8366156220436096),\n ('زیرساختی', 0.8302525877952576),\n ('Management', 0.8295701146125793),\n ('SAP', 0.8287033438682556),\n ('خودکارسازی', 0.827669084072113),\n ('مدیریتی', 0.8246448636054993),\n ('Service', 0.8239153623580933),\n ('Security', 0.8237847089767456),\n ('مشارکتی', 0.8226858973503113),\n ('سیسکو', 0.8220700621604919),\n ('توزیع\\u200cشده', 0.8212320804595947),\n ('لجستیک', 0.8208287358283997),\n ('یکپارچه\\u200cسازی', 0.8204160928726196),\n ('PLC', 0.8197720646858215),\n ('زیرساخت', 0.8197266459465027),\n ('توسعه\\u200cای', 0.8187692761421204),\n ('زیربنایی', 0.8179969787597656),\n ('مشاوره\\u200cای', 0.8171239495277405),\n ('نرم\\u200cافزاری', 0.816767156124115),\n ('مدیریت', 0.8163818717002869),\n ('IETF', 0.8143932819366455),\n ('ATM', 0.8135349154472351),\n ('Systems', 0.8115798234939575),\n ('CRM', 0.8107935786247253),\n ('سخت\\u200cافزارها', 0.8087218403816223),\n ('سرویس\\u200cها', 0.8084495067596436),\n ('بازاریابی', 0.805817186832428),\n ('سخت\\u200cافزاری', 0.805785596370697),\n ('چندرسانه\\u200cای', 0.8044797778129578),\n ('Desk', 0.8036779165267944),\n ('IEEE', 0.8035665154457092),\n ('Cisco', 0.8027501106262207),\n ('Application', 0.8012945055961609),\n ('هماهنگ\\u200cسازی', 0.8002890944480896),\n ('GIS', 0.7999411821365356),\n ('اینترانت', 0.7999266982078552),\n ('ارائه\\u200cکننده', 0.7991438508033752),\n ('موبایلی', 0.7977425456047058),\n ('دیتا', 0.7976580858230591),\n ('CAD', 0.7973035573959351),\n ('Content', 0.7964683175086975),\n ('ستادی', 0.7954818606376648),\n ('نیازمندی\\u200cها', 0.7946001887321472),\n ('channel', 0.7936426401138306),\n ('WAP', 0.7936109900474548),\n ('سازمانی', 0.7931272983551025),\n ('CDMA', 0.7929940819740295),\n ('فناوری', 0.7928908467292786),\n ('شبکه\\u200cسازی', 0.7923075556755066),\n ('Web', 0.7905803918838501),\n ('BIM', 0.7905471324920654),\n ('Microsoft', 0.7903627753257751),\n ('GSM', 0.7894939184188843),\n ('تجاری\\u200cسازی', 0.7894811034202576),\n ('انفورماتیک', 0.789459764957428),\n ('غیرمتمرکز', 0.789394199848175),\n ('اعتبارسنجی', 0.7891281843185425),\n ('رایانش', 0.7891160845756531),\n ('ارگونومی', 0.7888116240501404),\n ('تعاملی', 0.7879002690315247),\n ('Technology', 0.7878024578094482),\n ('سخت\\u200cافزار', 0.7873664498329163),\n ('نظارتی', 0.7872801423072815),\n ('نرم\\u200cافزارها', 0.7870155572891235),\n ('PKI', 0.7867386341094971),\n ('BPR', 0.786371648311615),\n ('کارآفرینی', 0.7853167653083801),\n ('Information', 0.7850229144096375),\n ('XML', 0.7845683693885803),\n ('Dynamics', 0.7844288945198059),\n ('Server', 0.7839828133583069),\n ('management', 0.7836381793022156),\n ('Infrastructure', 0.7833767533302307),\n ('الکترونیک', 0.7830200791358948),\n ('برون\\u200cسپاری', 0.7828100323677063),\n ('پرسنلی', 0.7826759219169617),\n ('تکنولوژیکی', 0.7826036214828491),\n ('مخابراتی', 0.7824714779853821),\n ('مکاترونیک', 0.7823507189750671),\n ('Mobility', 0.7823488116264343),\n ('Software', 0.7821499705314636),\n ('سرورها', 0.7819861769676208),\n ('نیازمندیهای', 0.7817735075950623),\n ('رباتیک', 0.7817310690879822),\n ('Enterprise', 0.7816498875617981),\n ('فراهم\\u200cکننده', 0.7814593315124512),\n ('وی\\u200cپی\\u200cان', 0.7813856601715088),\n ('ارائه\\u200cدهنده', 0.7804635763168335),\n ('دسکتاپ', 0.7800571322441101),\n ('بیسیم', 0.7798100709915161),\n ('Data', 0.7797693014144897),\n ('نرم\\u200cافزار', 0.7797191143035889),\n ('Process', 0.779476523399353),\n ('Active', 0.779456377029419),\n ('تصمیم\\u200cسازی', 0.7786732912063599),\n ('Omni', 0.7784785032272339),\n ('مخابرات', 0.7784768342971802),\n ('دات\\u200cنت', 0.7779789566993713),\n ('API', 0.7778556942939758),\n ('System', 0.7778360843658447),\n ('مدل\\u200cسازی', 0.7778346538543701),\n ('BPM', 0.7775505781173706),\n ('وردپرس', 0.7774360775947571),\n ('Strategy', 0.7774356007575989),\n ('BPL', 0.7771929502487183),\n ('اینفوپس', 0.7770825624465942),\n ('کاربردپذیری', 0.7768689393997192),\n ('Desktop', 0.7768470048904419),\n ('توکار', 0.7767715454101562),\n ('فن\\u200cآوری', 0.7762490510940552),\n ('Flash', 0.7762460112571716),\n ('Group', 0.7761907577514648),\n ('SQL', 0.7760621309280396),\n ('Expert', 0.7759636640548706),\n ('B2B', 0.7749555110931396),\n ('WAN', 0.7745946645736694),\n ('حسابداری', 0.7744524478912354),\n ('Services', 0.7741822600364685),\n ('لجستیکی', 0.7739577293395996),\n ('Network', 0.7739338874816895),\n ('انبارداری', 0.7738946080207825),\n ('MEMS', 0.773688554763794),\n ('سایبر', 0.7734552621841431),\n ('شیرپوینت', 0.7732237577438354),\n ('MSC', 0.7731045484542847),\n ('تکنولوژی', 0.7729945182800293),\n ('Architecture', 0.7727365493774414),\n ('کتابشناختی', 0.7727085947990417),\n ('نوآورانه', 0.7725135087966919),\n ('ZigBee', 0.7722665071487427),\n ('HTML5', 0.7719558477401733),\n ('عرضه\\u200cکننده', 0.7718708515167236),\n ('Task', 0.7716158628463745),\n ('Advanced', 0.7714582681655884),\n ('ITIL', 0.7714330554008484),\n ('Unified', 0.7713264226913452),\n ('راهبردی', 0.7712884545326233),\n ('سازمانها', 0.7712315320968628),\n ('مسیریابی', 0.7706642150878906),\n ('دارپا', 0.7705211639404297),\n ('وایمکس', 0.770453929901123),\n ('ADSL', 0.7702056169509888),\n ('3D', 0.7699962854385376),\n ('Adobe', 0.769957423210144),\n ('الکترونیکی', 0.7699369788169861),\n ('نمایه\\u200cسازی', 0.7699354887008667),\n ('کتابداری', 0.7696921229362488),\n ('مستندسازی', 0.7696042656898499),\n ('Internet', 0.7695349454879761),\n ('استانداردها', 0.769254207611084),\n ('حسابرسی', 0.7691372632980347),\n ('انفورماتیکی', 0.7689799666404724),\n ('IDE', 0.7688878774642944),\n ('هوافضا', 0.7682805061340332),\n ('بهینه\\u200cسازی', 0.7682696580886841),\n ('LAN', 0.7682127952575684),\n ('POS', 0.7679861783981323),\n ('Mobile', 0.7679314613342285),\n ('802.11', 0.7678872346878052),\n ('اعتباربخشی', 0.7677615880966187),\n ('فراهم\\u200cآوری', 0.7675334811210632),\n ('مدلسازی', 0.7671864032745361),\n ('بالادستی', 0.7670992612838745),\n ('Control', 0.7666651010513306),\n ('ساخت\\u200cوساز', 0.7664010524749756),\n ('HP', 0.7663390040397644),\n ('پورتال', 0.7663319706916809),\n ('مجازی\\u200cسازی', 0.7662993669509888),\n ('پیشرفته', 0.7662030458450317),\n ('Professional', 0.76582932472229),\n ('User', 0.7655688524246216),\n ('زیرسیستم', 0.7655631303787231),\n ('پیام\\u200cرسانی', 0.7655616998672485),\n ('LEED', 0.7654644846916199),\n ('ارتباطات', 0.7653887867927551),\n ('مقیاس\\u200cپذیری', 0.7652251720428467),\n ('مانیتورینگ', 0.7652177810668945),\n ('Engineering', 0.7651760578155518),\n ('فرایندها', 0.7649090886116028),\n ('Interface', 0.7648916244506836),\n ('داده\\u200cکاوی', 0.764889121055603),\n ('خدماتی', 0.7648800611495972),\n ('اقتصادسنجی', 0.7648013234138489),\n ('IBM', 0.7646473050117493),\n ('CAM', 0.7643474340438843),\n ('کوربا', 0.7642810344696045),\n ('VoIP', 0.7642422914505005),\n ('رایانشی', 0.7641788721084595),\n ('توسعه\\u200cی', 0.7641765475273132),\n ('رویه\\u200cها', 0.7639375925064087),\n ('سوئیچینگ', 0.763687252998352),\n ('سرویسهای', 0.7636739015579224),\n ('مهندسی', 0.7635876536369324),\n ('پویای', 0.7634002566337585),\n ('SSH', 0.7631891369819641),\n ('متن\\u200cباز', 0.7629920244216919),\n ('ارتباطاتی', 0.7626965641975403),\n ('راه\\u200cدور', 0.7626518607139587),\n ('سازمان\\u200cها', 0.7622863054275513),\n ('ماژولار', 0.7622681856155396),\n ('حمایتی', 0.7621634006500244),\n ('EHR', 0.7619968056678772),\n ('Wireless', 0.7619550228118896),\n ('drive', 0.7618975639343262),\n ('عیب\\u200cیابی', 0.7618540525436401),\n ('اشتراک\\u200cگذاری', 0.7617988586425781),\n ('udev', 0.7617000937461853),\n ('Explorer', 0.7616720199584961),\n ('client', 0.7615221738815308),\n ('اکلیپس', 0.7615095376968384),\n ('مشترکین', 0.7614325284957886),\n ('Development', 0.7613722085952759),\n ('بی\\u200cسیم', 0.761365532875061),\n ('سامانه\\u200cها', 0.7612742781639099),\n ('server', 0.7612242698669434),\n ('مراقبتی', 0.7610864639282227),\n ('اطلاع\\u200cرسانی', 0.7609608173370361),\n ('بلادرنگ', 0.760840892791748),\n ('دیتابیس', 0.7607974410057068),\n ('بیمه\\u200cای', 0.7607123851776123),\n ('B2C', 0.7605680227279663),\n ('access', 0.760557234287262),\n ('توصیه\\u200cگر', 0.7605063915252686),\n ('QoS', 0.7603554725646973),\n ('مربوطه', 0.7601202130317688),\n ('SSL', 0.7600963115692139),\n ('GPRS', 0.7600212097167969),\n ('Policy', 0.7599908113479614),\n ('اتوکد', 0.7599841356277466),\n ('اجرائی', 0.7597103118896484),\n ('Windows', 0.7596933841705322),\n ('ذی\\u200cنفعان', 0.7595835328102112),\n ('UEFI', 0.7594912648200989),\n ('محلی\\u200cسازی', 0.7594817876815796),\n ('ASP.NET', 0.759364902973175),\n ('UMTS', 0.7593570947647095),\n ('based', 0.7592100501060486),\n ('سیاستها', 0.7591588497161865),\n ('WIPS', 0.7590646743774414),\n ('MS', 0.7589312791824341),\n ('دسترس\\u200cپذیری', 0.7588158845901489),\n ('Design', 0.758766770362854),\n ('LTE', 0.7585156559944153),\n ('زیرساخت\\u200cها', 0.7583330869674683),\n ('application', 0.7583147287368774),\n ('IRC', 0.7582883238792419),\n ('تراکنش\\u200cها', 0.7579767107963562),\n ('سیستم\\u200cها', 0.7577648758888245),\n ('موردنیاز', 0.7576055526733398),\n ('وای\\u200cمکس', 0.7571864128112793),\n ('کامپیوتری', 0.7569876909255981),\n ('پروتکلی', 0.7567237615585327),\n ('سیاستگذاری', 0.7563883066177368),\n ('DBA', 0.756310224533081),\n ('پیاده\\u200cسازی', 0.7559490203857422),\n ('برخط', 0.7558038234710693),\n ('بایوس', 0.7557673454284668),\n ('بیوتکنولوژی', 0.7556601762771606),\n ('Intel', 0.7555004358291626),\n ('Database', 0.7548789978027344),\n ('Dynamic', 0.7548285722732544),\n ('RAD', 0.7548176050186157),\n ('کاربردی', 0.7547926306724548),\n ('کاریابی', 0.754691481590271),\n ('Framework', 0.7545667886734009),\n ('ماکروسافت', 0.7545104026794434),\n ('مایمو', 0.7544365525245667),\n ('استفاده\\u200cکنندگان', 0.7542828321456909),\n ('پلتفرم', 0.7542763948440552),\n ('Virtual', 0.7540866136550903),\n ('Analysis', 0.7534340620040894),\n ('CAT', 0.7534011602401733),\n ('P2P', 0.7533367872238159),\n ('کارآمدی', 0.7533056735992432),\n ('engineering', 0.7530136108398438),\n ('پیکربندی', 0.7530028820037842),\n ('تراکنشی', 0.7528162598609924),\n ('NFC', 0.7527570128440857),\n ('متلب', 0.7527238726615906),\n ('system', 0.7526298761367798),\n ('Automation', 0.7523390054702759),\n ('داده\\u200cای', 0.7522676587104797),\n ('مارکتینگ', 0.7521650195121765),\n ('ذخیره\\u200cسازی', 0.7520866394042969),\n ('Hewlett', 0.7520535588264465),\n ('کنترلی', 0.7520455121994019),\n ('بانک\\u200cداری', 0.7519698143005371),\n ('SMP', 0.7519491910934448),\n ('Google', 0.7518665790557861),\n ('محاسباتی', 0.7517181634902954),\n ('ART', 0.7517175674438477),\n ('EnOcean', 0.7516175508499146),\n ('نیازمندی\\u200cهای', 0.7515197992324829),\n ('تحقیقاتی', 0.7512759566307068),\n ('ارپی\\u200cسی', 0.7509363889694214),\n ('Business', 0.7508786916732788)]"
     },
     "execution_count": 10,
     "metadata": {},
     "output_type": "execute_result"
    }
   ],
   "source": [
    "word2vec_model.most_similar_cosmul('IT',topn=300)\n"
   ],
   "metadata": {
    "collapsed": false,
    "ExecuteTime": {
     "end_time": "2024-02-14T07:20:41.493443905Z",
     "start_time": "2024-02-14T07:20:41.234999776Z"
    }
   },
   "id": "ed453e5641f7572d",
   "execution_count": 10
  },
  {
   "cell_type": "markdown",
   "source": [
    "# Pre"
   ],
   "metadata": {
    "collapsed": false
   },
   "id": "518d70a70faf0c24"
  },
  {
   "cell_type": "code",
   "outputs": [],
   "source": [
    "def read_dataset_csv(csv_fine_path):\n",
    "    df = pd.read_csv(csv_fine_path)  # read csv file\n",
    "    data_list = df.to_dict(orient='records')  # reshape to dict\n",
    "    return data_list"
   ],
   "metadata": {
    "collapsed": false,
    "ExecuteTime": {
     "end_time": "2024-02-14T07:20:41.497721245Z",
     "start_time": "2024-02-14T07:20:41.424256775Z"
    }
   },
   "id": "62644542e6b7988c",
   "execution_count": 11
  },
  {
   "cell_type": "code",
   "outputs": [],
   "source": [
    "def encode_to_db(collection_name):\n",
    "    collection_name = MongoClient(host, port)\n",
    "    client = collection_name['nlp']\n",
    "    my_collection = client['encoded_new_coll_collection']\n",
    "    main_collection = client['new_coll']\n",
    "    dict_list = [i['job'] for i in main_collection.find({}, {'job'})]\n",
    "    for i in tqdm(dict_list):\n",
    "        if my_collection.find_one({'text': i}):\n",
    "            pass\n",
    "        else:\n",
    "            my_collection.insert_one({\n",
    "                'text': i,\n",
    "                'encoded': word_embedding_method(i)\n",
    "            })\n"
   ],
   "metadata": {
    "collapsed": false,
    "ExecuteTime": {
     "end_time": "2024-02-14T07:20:41.595546587Z",
     "start_time": "2024-02-14T07:20:41.439775381Z"
    }
   },
   "id": "3ff0af5e2a555829",
   "execution_count": 12
  },
  {
   "cell_type": "code",
   "outputs": [],
   "source": [
    "\n",
    "def word_embedding_method(sentence):\n",
    "    try:\n",
    "        encoded_word_list = []\n",
    "        for i in preprocess(sentence):\n",
    "            if i in word2vec_model:\n",
    "                encoded_word_list.append(word2vec_model[i])\n",
    "            else:\n",
    "                continue\n",
    "        if encoded_word_list is None:\n",
    "            return None\n",
    "        else:\n",
    "            return np.mean(encoded_word_list, axis=0).tolist()\n",
    "    except KeyError as e:\n",
    "        return None"
   ],
   "metadata": {
    "collapsed": false,
    "ExecuteTime": {
     "end_time": "2024-02-14T08:17:17.573341062Z",
     "start_time": "2024-02-14T08:17:17.547474219Z"
    }
   },
   "id": "541ff8adaf1bb8ce",
   "execution_count": 68
  },
  {
   "cell_type": "code",
   "outputs": [
    {
     "data": {
      "text/plain": "[1.215616226196289,\n 0.4286821186542511,\n -0.5207251906394958,\n 0.4606791138648987,\n 1.3914198875427246,\n 1.1369383335113525,\n -0.5813952684402466,\n 0.5204800963401794,\n 0.47460970282554626,\n -1.4391437768936157,\n 0.4674311578273773,\n -0.14379426836967468,\n -0.8068406581878662,\n 0.41642752289772034,\n 1.3531839847564697,\n -0.33421286940574646,\n 0.5531848669052124,\n 0.05917990207672119,\n 0.14695502817630768,\n 1.0609160661697388,\n 0.40442919731140137,\n 0.3077820837497711,\n -0.008428089320659637,\n 0.9650437831878662,\n -0.20326948165893555,\n 1.0492972135543823,\n 0.7273272275924683,\n -0.6738163232803345,\n -0.45814332365989685,\n 1.5417709350585938,\n 0.5649698376655579,\n -1.565555214881897,\n -0.005331411957740784,\n -0.4879113733768463,\n -0.3059764802455902,\n 0.8167935609817505,\n 0.3207032382488251,\n 0.5578347444534302,\n 0.12139920890331268,\n 0.9566700458526611,\n -0.9906855225563049,\n 0.3096960186958313,\n -1.165270209312439,\n -0.978934645652771,\n 0.11888518929481506,\n -0.6433796286582947,\n -0.35046979784965515,\n 0.23961009085178375,\n 0.6578365564346313,\n 0.44739192724227905,\n -0.22545590996742249,\n -0.35036978125572205,\n -0.31160369515419006,\n 0.8607727289199829,\n 0.026753611862659454,\n 0.513454794883728,\n -0.08672189712524414,\n -0.9785585403442383,\n -0.2624288499355316,\n -0.2830597460269928,\n 1.6574671268463135,\n -0.3757309913635254,\n 0.41746386885643005,\n -0.2830359935760498,\n -0.22780559957027435,\n -0.42587265372276306,\n -1.607728362083435,\n 0.6851779222488403,\n 0.18989339470863342,\n -0.08271791785955429,\n -1.8242807388305664,\n -0.6072414517402649,\n 0.32038459181785583,\n -0.13931846618652344,\n -1.8414676189422607,\n 0.7130089998245239,\n 0.6768082976341248,\n -0.671419620513916,\n -0.8733656406402588,\n -0.4252268075942993,\n 0.1769595742225647,\n -0.2522732615470886,\n -0.9115651845932007,\n -0.6556707620620728,\n -0.2635453939437866,\n 0.06492941081523895,\n -0.5938063859939575,\n -0.13845038414001465,\n 0.11997272074222565,\n 1.548123836517334,\n 0.26206105947494507,\n 0.5513968467712402,\n 0.9960469007492065,\n -1.0975534915924072,\n -1.0731117725372314,\n 1.083815097808838,\n 0.09322772175073624,\n -0.7158100605010986,\n 0.5433683395385742,\n -1.0881214141845703,\n -0.3636629283428192,\n 0.03730124235153198,\n -0.45292872190475464,\n -0.43487709760665894,\n -0.37234818935394287,\n 0.3942263126373291,\n -0.9358391761779785,\n -1.9843496084213257,\n 0.07895098626613617,\n 0.04266289621591568,\n 0.7144936919212341,\n -0.47195255756378174,\n 0.664745032787323,\n 0.18824835121631622,\n -0.41272833943367004,\n -0.42789310216903687,\n 0.9608656167984009,\n 0.24224025011062622,\n -1.0748274326324463,\n 0.1119343638420105,\n 0.05137968063354492,\n 0.005019068717956543,\n 0.26658743619918823,\n -0.9480465054512024,\n -0.016281500458717346,\n 0.4452638030052185,\n 0.40976521372795105,\n 0.27969247102737427,\n 1.0922300815582275,\n -0.7601444721221924,\n -0.2557315528392792,\n -0.28462010622024536,\n -0.06277168542146683,\n -0.2967982888221741,\n 0.6502737402915955,\n -0.2531132698059082,\n 0.6213671565055847,\n 0.032596856355667114,\n -1.2494149208068848,\n 0.19146589934825897,\n -1.070343017578125,\n 0.24030938744544983,\n -1.1071981191635132,\n -0.16313472390174866,\n -0.08268312364816666,\n -0.13644976913928986,\n -0.35206320881843567,\n 0.6244550347328186,\n 0.4497300684452057,\n -1.0287504196166992,\n 0.6857955455780029,\n 0.31998130679130554,\n -0.39215999841690063,\n -0.9938207864761353,\n -0.18659275770187378,\n 0.17816150188446045,\n -0.16722172498703003,\n 0.9991418123245239,\n 0.802679181098938,\n -0.3737923204898834,\n -0.6959626078605652,\n -0.33516764640808105,\n -0.3717767596244812,\n -0.32526707649230957,\n -0.8737242817878723,\n 0.627734899520874,\n -0.211604505777359,\n 0.3074823021888733,\n 0.657767117023468,\n -1.0942506790161133,\n -2.482309103012085,\n -1.6524152755737305,\n 0.5725281238555908,\n 0.3574090301990509,\n -0.5001819729804993,\n -0.08909428119659424,\n -0.9008183479309082,\n 0.6227749586105347,\n 1.7740892171859741,\n 1.498420000076294,\n -1.471637487411499,\n 0.22546084225177765,\n -0.7122096419334412,\n -0.06806264072656631,\n -0.34900370240211487,\n 0.20721542835235596,\n -0.2645261883735657,\n 0.17694862186908722,\n 0.3643001914024353,\n -0.22475849092006683,\n 0.3002893030643463,\n 0.08607685565948486,\n -1.6097149848937988,\n 0.07113315165042877,\n -0.7619113326072693,\n 0.8294476270675659,\n -0.9716383218765259,\n 1.1227320432662964,\n -1.2682774066925049,\n 0.11366022378206253]"
     },
     "execution_count": 69,
     "metadata": {},
     "output_type": "execute_result"
    }
   ],
   "source": [
    "word_embedding_method('محتوای شبکه اجتماعی لینکدین')"
   ],
   "metadata": {
    "collapsed": false,
    "ExecuteTime": {
     "end_time": "2024-02-14T08:17:18.661019885Z",
     "start_time": "2024-02-14T08:17:18.522707698Z"
    }
   },
   "id": "130b302f65edf91e",
   "execution_count": 69
  },
  {
   "cell_type": "markdown",
   "source": [
    "# preprocess"
   ],
   "metadata": {
    "collapsed": false
   },
   "id": "ad6c4c7ed8a3ff76"
  },
  {
   "cell_type": "code",
   "outputs": [],
   "source": [
    "\n",
    "def preprocess(raw_text):\n",
    "    words = word_tokenize(raw_text)  # split a sentence to words and return an array\n",
    "    words = [i for i in words if i not in stop_word]\n",
    "    spell_checker_list = []\n",
    "    for i in range(len(words)):  # iterate in word array for checking spell\n",
    "        if not sym_spell.lookup(words[i], Verbosity.ALL, max_edit_distance=3):  # if word not exists ignore the word\n",
    "            continue\n",
    "        else:\n",
    "            word_matched = sym_spell.lookup(words[i], Verbosity.ALL, max_edit_distance=3)\n",
    "            for i in word_matched[:1]:  # take first similar word to our incorrect word\n",
    "                spell_checker_list.append(i)\n",
    "    #lemmatize = [lemmatizer.lemmatize(wo\n",
    "    # rd) for word in words]\n",
    "\n",
    "    split_lemm_words = []\n",
    "    for i in words:\n",
    "\n",
    "        if \"#\" not in i:\n",
    "            split_lemm_words.append(i)\n",
    "        else:\n",
    "            split_lemm_words.extend(i.split(\"#\"))\n",
    "    clean_words = list(set([w for w in split_lemm_words if w not in stop_word]))  # remove some word like \"و ,با, ...\"\n",
    "\n",
    "    return clean_words"
   ],
   "metadata": {
    "collapsed": false,
    "ExecuteTime": {
     "end_time": "2024-02-14T08:17:20.300829996Z",
     "start_time": "2024-02-14T08:17:20.234811964Z"
    }
   },
   "id": "7d3d8d7aab206f49",
   "execution_count": 70
  },
  {
   "cell_type": "markdown",
   "source": [
    "\n",
    "\n",
    "# word synonyms "
   ],
   "metadata": {
    "collapsed": false
   },
   "id": "4c1343f6cadbc8a6"
  },
  {
   "cell_type": "code",
   "outputs": [],
   "source": [
    "def calculate_similarity_of_words(sentence1, sentence2):\n",
    "    sentence_1 = preprocess(sentence1)\n",
    "\n",
    "    sentence_word_similarity = {}\n",
    "    for i in sentence_1:\n",
    "        get_similarity = word2vec_model.most_similar_cosmul(i, topn=20)\n",
    "        lemm = [lemmatizer.lemmatize(word[0]) for word in get_similarity]\n",
    "        cleaning_words = [re.sub(r'[\\u200c]', '', word) for word in lemm]\n",
    "        sentence_word_similarity[i] = list(set(cleaning_words))\n",
    "    gf_list = {}\n",
    "    for sent in sentence2:\n",
    "        sentence_2 = preprocess(sent)\n",
    "        reformed_sentence = sentence_2.copy()\n",
    "        for i, j in sentence_word_similarity.items():\n",
    "            for x in sentence_2:\n",
    "                if x in j:\n",
    "                    reformed_sentence = [i if word == x else word for word in reformed_sentence]\n",
    "        gf_list = {**gf_list, **{sent: ' '.join(reformed_sentence)}}\n",
    "    return gf_list"
   ],
   "metadata": {
    "collapsed": false,
    "ExecuteTime": {
     "end_time": "2024-02-14T08:17:21.463008385Z",
     "start_time": "2024-02-14T08:17:21.413371622Z"
    }
   },
   "id": "89d158463b8de6c1",
   "execution_count": 71
  },
  {
   "cell_type": "markdown",
   "source": [
    "\n",
    "# *Similarity*"
   ],
   "metadata": {
    "collapsed": false
   },
   "id": "47a28b6ae373519f"
  },
  {
   "cell_type": "code",
   "outputs": [],
   "source": [
    "\n",
    "def final_similarity(sentence):\n",
    "    my_collection = context_mongo('new_version_of_cleaned_dataset')\n",
    "\n",
    "    vector_1 = np.mean([word_embedding_method(sentence)], axis=0)\n",
    "    result_pass = [calculate_similarity_of_words(sentence, [i['cleaned_text'] for i in my_collection.find()][:50])]\n",
    "\n",
    "    op = {}\n",
    "    for i in result_pass:\n",
    "        for j in i.values():\n",
    "            if len(j.split(' ')) > 1:\n",
    "                op[j] = np.mean([word_embedding_method(j)], axis=0)\n",
    "            else:\n",
    "                if type(word_embedding_method(j)) == float:\n",
    "                    continue\n",
    "                else:\n",
    "                    op[j] = word_embedding_method(j)\n",
    "    result_dict = {}\n",
    "    result = util.cos_sim(vector_1, np.array([j if i else None for i, j in op.items()], dtype=float))[0]\n",
    "    top_results = torch.topk(result, k=5)\n",
    "    for score, idx in zip(top_results[0], top_results[1]):\n",
    "        result_dict[list(result_pass[0].keys())[int(idx)]] = np.round(score.numpy() * 100, 2)\n",
    "    return result_dict"
   ],
   "metadata": {
    "collapsed": false,
    "ExecuteTime": {
     "end_time": "2024-02-14T08:17:22.710311083Z",
     "start_time": "2024-02-14T08:17:22.665383062Z"
    }
   },
   "id": "8070a66963c2c8a7",
   "execution_count": 72
  },
  {
   "cell_type": "code",
   "outputs": [
    {
     "data": {
      "text/plain": "{'محتوای شبکه اجتماعی لینکدین': 100.0,\n 'محتوای شبکه اجتماعی فیس بوک': 92.69,\n 'تهیه و نگارش استراتژی اولیه': 87.98,\n 'ایده برای روش های بدست آوردن دیتا قابل اتکا': 80.94,\n 'محتوای صفحات وب مدیریت پروژه': 69.35}"
     },
     "execution_count": 73,
     "metadata": {},
     "output_type": "execute_result"
    }
   ],
   "source": [
    "final_similarity(\"محتوای شبکه اجتماعی لینکدین\")"
   ],
   "metadata": {
    "collapsed": false,
    "ExecuteTime": {
     "end_time": "2024-02-14T08:17:51.516026003Z",
     "start_time": "2024-02-14T08:17:23.691535418Z"
    }
   },
   "id": "18a6a3de720dc50c",
   "execution_count": 73
  },
  {
   "cell_type": "markdown",
   "source": [
    "\n",
    "\n",
    "# Sent By Sent"
   ],
   "metadata": {
    "collapsed": false
   },
   "id": "a0c32c70702b9b77"
  },
  {
   "cell_type": "code",
   "outputs": [],
   "source": [
    "def calculate_similarity_of_words(sentence1, sentence2):\n",
    "    sentence_1 = preprocess(sentence1)\n",
    "    sentence_word_similarity = {}\n",
    "    for i in sentence_1:\n",
    "        get_similarity = model.most_similar_cosmul(i, topn=20)\n",
    "        lemm = [lemmatizer.lemmatize(word[0]) for word in get_similarity]\n",
    "        cleaning_words = [re.sub(r'[\\u200c]', '', word) for word in lemm]\n",
    "        sentence_word_similarity[i] = list(set(cleaning_words))\n",
    "\n",
    "    sentence_2 = preprocess(sentence2)\n",
    "\n",
    "    reformed_sentence = sentence_2.copy()\n",
    "    for i, j in sentence_word_similarity.items():\n",
    "        for x in sentence_2:\n",
    "            if x in j:\n",
    "                reformed_sentence = [i if word == x else word for word in reformed_sentence]\n",
    "    gf_list = ' '.join(reformed_sentence)\n",
    "    return gf_list\n",
    "\n",
    "\n",
    "def single_sim(sentence1, sentence2):\n",
    "    vector_1 = np.mean([word_embedding_method(sentence1)], axis=0)\n",
    "    result_pass = calculate_similarity_of_words(sentence1, sentence2)\n",
    "\n",
    "    op = {}\n",
    "    if len(result_pass.split(' ')) > 1:\n",
    "        op[result_pass] = np.mean([word_embedding_method(result_pass)], axis=0)\n",
    "    else:\n",
    "        if type(word_embedding_method(result_pass)) == float:\n",
    "            pass\n",
    "        else:\n",
    "            op[result_pass] = word_embedding_method(result_pass)\n",
    "    result_dict = {}\n",
    "    result = util.cos_sim(vector_1, np.array([j if i else None for i, j in op.items()], dtype=float))[0]\n",
    "    return result\n",
    "\n"
   ],
   "metadata": {
    "collapsed": false,
    "ExecuteTime": {
     "end_time": "2024-02-14T08:19:02.762159405Z",
     "start_time": "2024-02-14T08:19:02.714564998Z"
    }
   },
   "id": "d1299fb83cea30b3",
   "execution_count": 79
  },
  {
   "cell_type": "code",
   "outputs": [
    {
     "data": {
      "text/plain": "tensor([0.9988], dtype=torch.float64)"
     },
     "execution_count": 80,
     "metadata": {},
     "output_type": "execute_result"
    }
   ],
   "source": [
    "text = \"محتوای شبکه اجتماعی لینکدین\"\n",
    "text1 = \"محتوای شبکه اجتماعی فبسبوک\"\n",
    "single_sim(text, text1)"
   ],
   "metadata": {
    "collapsed": false,
    "ExecuteTime": {
     "end_time": "2024-02-14T08:19:04.941588891Z",
     "start_time": "2024-02-14T08:19:04.425459670Z"
    }
   },
   "id": "c321ae545e284b37",
   "execution_count": 80
  },
  {
   "cell_type": "markdown",
   "source": [
    "# for faster calculation"
   ],
   "metadata": {
    "collapsed": false
   },
   "id": "6778dc354076d669"
  },
  {
   "cell_type": "code",
   "outputs": [],
   "source": [
    "my_collection = context_mongo('new_version_of_cleaned_dataset')\n",
    "sentences = [i['cleaned_text'] for i in my_collection.find()]"
   ],
   "metadata": {
    "collapsed": false,
    "ExecuteTime": {
     "end_time": "2024-02-14T08:19:07.369811016Z",
     "start_time": "2024-02-14T08:19:07.305947474Z"
    }
   },
   "id": "d72e2db756fd46ab",
   "execution_count": 81
  },
  {
   "cell_type": "code",
   "outputs": [],
   "source": [
    "def find_upload(sentences):\n",
    "    all_predicted_sentences = {}\n",
    "    for i in tqdm(sentences):\n",
    "        tokenized = preprocess(i)\n",
    "        if len(tokenized) > 0:\n",
    "            ref_with_sim = {}\n",
    "            for word in tokenized:\n",
    "                sim_words_array = []\n",
    "                try:\n",
    "                    get_similarity = word2vec_model.most_similar_cosmul(word, topn=30)\n",
    "                    for similarity in get_similarity:\n",
    "                        sim_words_array.append(similarity[0])\n",
    "                except:\n",
    "                    pass\n",
    "                ref_with_sim = {**ref_with_sim, **{word: sim_words_array}}\n",
    "            maked_sentence = []\n",
    "            for tokenized_word in preprocess(i):\n",
    "                for l, m in ref_with_sim.items():\n",
    "                    if l == tokenized_word:\n",
    "                        for ih in m:\n",
    "                            maked_sentence.append(str(i).replace(l, ih))\n",
    "            all_predicted_sentences = {**all_predicted_sentences, **{i: maked_sentence}}\n",
    "        else:\n",
    "            continue\n",
    "    return all_predicted_sentences\n"
   ],
   "metadata": {
    "collapsed": false,
    "ExecuteTime": {
     "end_time": "2024-02-14T08:49:26.184297697Z",
     "start_time": "2024-02-14T08:49:26.146322652Z"
    }
   },
   "id": "d32a7abeabe2ac00",
   "execution_count": 103
  },
  {
   "cell_type": "code",
   "outputs": [],
   "source": [
    "all_syn = context_mongo('hahahauiofferaiguogipouydgdfgfdgfgfdgyoh')"
   ],
   "metadata": {
    "collapsed": false,
    "ExecuteTime": {
     "end_time": "2024-02-14T08:49:29.661222655Z",
     "start_time": "2024-02-14T08:49:29.604076234Z"
    }
   },
   "id": "7df6cd8fd41ddd28",
   "execution_count": 104
  },
  {
   "cell_type": "code",
   "outputs": [
    {
     "name": "stderr",
     "output_type": "stream",
     "text": [
      "100%|██████████| 100/100 [01:13<00:00,  1.35it/s]\n"
     ]
    }
   ],
   "source": [
    "for i, j in find_upload(sentences[:100]).items():\n",
    "    if all_syn.find_one({'name': i}):\n",
    "        pass\n",
    "    else:\n",
    "        all_syn.insert_one({\n",
    "            \"name\": i,\n",
    "            \"encoded\": j\n",
    "        })"
   ],
   "metadata": {
    "collapsed": false,
    "ExecuteTime": {
     "end_time": "2024-02-14T08:50:45.484151618Z",
     "start_time": "2024-02-14T08:49:31.475368851Z"
    }
   },
   "id": "52eb078cf5313381",
   "execution_count": 105
  },
  {
   "cell_type": "code",
   "outputs": [],
   "source": [
    "syn_encoded = context_mongo('222hatyyiofyiuiouiouiytiha')"
   ],
   "metadata": {
    "collapsed": false,
    "ExecuteTime": {
     "end_time": "2024-02-14T08:50:45.513511018Z",
     "start_time": "2024-02-14T08:50:45.488076078Z"
    }
   },
   "id": "224d964aebc3898a",
   "execution_count": 106
  },
  {
   "cell_type": "code",
   "outputs": [
    {
     "name": "stderr",
     "output_type": "stream",
     "text": [
      "100it [50:49, 30.50s/it]\n"
     ]
    }
   ],
   "source": [
    "\n",
    "for i in tqdm(all_syn.find({}, {\"_id\": False})):\n",
    "    if syn_encoded.find_one({'text': i['name']}):\n",
    "        pass\n",
    "    else:\n",
    "        syn_encoded_list = []\n",
    "        for m in i['encoded']:\n",
    "            syn_encoded_list.append(np.mean([word_embedding_method(m)], axis=0).tolist())\n",
    "        if syn_encoded_list:\n",
    "            syn_encoded.insert_one({\n",
    "                'text': i['name'],\n",
    "                'generated_sent': i['encoded'],\n",
    "                'mean_encoded': syn_encoded_list\n",
    "\n",
    "            })\n"
   ],
   "metadata": {
    "collapsed": false,
    "ExecuteTime": {
     "end_time": "2024-02-14T09:50:37.059467857Z",
     "start_time": "2024-02-14T08:59:47.366410196Z"
    }
   },
   "id": "af5fdcd3877d08de",
   "execution_count": 108
  },
  {
   "cell_type": "code",
   "outputs": [],
   "source": [
    "def result(ref):\n",
    "    vector_1 = np.mean([word_embedding_method(ref)], axis=0)\n",
    "    res = {}\n",
    "    for i in tqdm(syn_encoded.find({}, {\"_id\": False})):\n",
    "        result = util.cos_sim(vector_1.tolist(), [ c for c in i['mean_encoded'] if type(c) !=float ])\n",
    "        res[i['text']]=np.mean(sorted(result[0].detach().numpy(),reverse=True)[:20])\n",
    "        #res[i['text']] = result[0].detach().numpy()\n",
    "    return list(sorted(res.items(), key=lambda item: item[1], reverse=True))[:20]"
   ],
   "metadata": {
    "collapsed": false,
    "ExecuteTime": {
     "end_time": "2024-02-14T10:19:39.134718732Z",
     "start_time": "2024-02-14T10:19:39.093597469Z"
    }
   },
   "id": "1aa8989a0b323fba",
   "execution_count": 138
  },
  {
   "cell_type": "code",
   "outputs": [],
   "source": [
    "\n",
    "    "
   ],
   "metadata": {
    "collapsed": false,
    "ExecuteTime": {
     "end_time": "2024-02-14T10:19:39.490335300Z",
     "start_time": "2024-02-14T10:19:39.452322803Z"
    }
   },
   "id": "d2a7ed0d290055c8",
   "execution_count": 138
  },
  {
   "cell_type": "code",
   "outputs": [
    {
     "name": "stderr",
     "output_type": "stream",
     "text": [
      "100it [00:00, 169.91it/s]\n"
     ]
    },
    {
     "data": {
      "text/plain": "[('معماری ایمیل مارکتینگ', 0.49875498),\n ('محتوای ایمیل مارکتینگ خوش آمدگویی', 0.4974696),\n ('برنامه ریزی برای ایمیل مارکتینگ', 0.49633646),\n ('محتوای ایمیل مارکتینگ', 0.4960641),\n ('محتوای ایمیل مارکتینگ روز اول', 0.4960641),\n ('محتوای ایمیل مارکتینگ روز سوم', 0.4960641),\n ('محتوای ایمیل مارکتینگ روز هغتم', 0.4960641),\n ('محتوای ایمیل مارکتینگ روز', 0.4960641),\n ('the business model canvas', 0.4869298),\n ('بازنگری تارگت و پرسونا هم تیک', 0.44960827),\n ('محتوای ایمیل مارکتینگ روز چهاردهم', 0.42841488),\n ('تهیه منبع ایمیل ها از تریدر و تحلیلگر ها', 0.42230058),\n ('راهنمای مدیریت پروژه', 0.40749127),\n ('دیجیتال مارکتینگ و توسعه بازار', 0.40657917),\n ('طراحی اینفوگرام معماری ایمیل مارکتینگ', 0.40590554),\n ('طراحی فرمت کلی', 0.3970964),\n ('امکانات تایم شیت', 0.38673624),\n ('محتوای صفحات وب مدیریت پروژه', 0.3802409),\n ('لینک جستجوی پیشرفته در زیر فیلتر های صفحه kp', 0.37133622),\n ('محتوای شبکه اجتماعی فیس بوک', 0.3660497)]"
     },
     "execution_count": 139,
     "metadata": {},
     "output_type": "execute_result"
    }
   ],
   "source": [
    "\n",
    "result('مارکتینگ email')\n"
   ],
   "metadata": {
    "collapsed": false,
    "ExecuteTime": {
     "end_time": "2024-02-14T10:19:40.404501428Z",
     "start_time": "2024-02-14T10:19:39.782957787Z"
    }
   },
   "id": "a77ff2f24d8754f",
   "execution_count": 139
  },
  {
   "cell_type": "code",
   "outputs": [
    {
     "ename": "SyntaxError",
     "evalue": "unexpected character after line continuation character (3758142603.py, line 1)",
     "output_type": "error",
     "traceback": [
      "\u001B[0;36m  Cell \u001B[0;32mIn[130], line 1\u001B[0;36m\u001B[0m\n\u001B[0;31m    \\from nltk import ngrams\u001B[0m\n\u001B[0m                            ^\u001B[0m\n\u001B[0;31mSyntaxError\u001B[0m\u001B[0;31m:\u001B[0m unexpected character after line continuation character\n"
     ]
    }
   ],
   "source": [
    "\\from nltk import ngrams\n",
    "from collections import defaultdict\n",
    "\n",
    "\n",
    "class to_ngram:\n",
    "    def __init__(self, data_set, n_gram: list):\n",
    "        super(to_ngram, self).__init__()\n",
    "        self.n_gram = n_gram\n",
    "        self.data_set = data_set\n",
    "\n",
    "    def __calculate_imbalanced_label(self):\n",
    "        job_count = self.data_set.who.value_counts()\n",
    "        job_count = job_count[job_count < 50]\n",
    "        return job_count.index\n",
    "\n",
    "    def __do_not_know(self):\n",
    "        job_count = self.__calculate_imbalanced_label()\n",
    "        output_series = pd.Series()\n",
    "        for i in job_count:\n",
    "            tasks = self.data_set[self.data_set['who'] == i]['job']\n",
    "            list_of_task = []\n",
    "            for task in tasks:\n",
    "                for num in self.n_gram:\n",
    "                    word = task.split()\n",
    "                    word = ngrams(word, num)\n",
    "                    result = [' '.join(ngram) for ngram in word]\n",
    "                    if len(result) > 0:\n",
    "                        list_of_task.append(result)\n",
    "            output_series.loc[i] = list_of_task\n",
    "        return output_series\n",
    "\n",
    "    def __sep_dataset(self):\n",
    "        output_series = self.__do_not_know()\n",
    "        #full_list=defaultdict(list)\n",
    "        final_dict = {}\n",
    "        for who, jobs in output_series.items():\n",
    "            for y in jobs:\n",
    "                for z in y:\n",
    "                    final_dict[z] = who\n",
    "        return final_dict\n",
    "\n",
    "    def __result(self):\n",
    "        final_dict = self.__sep_dataset()\n",
    "        dataframe = pd.DataFrame([final_dict]).transpose().reset_index()\n",
    "        dataframe.rename(columns={'index': \"job\", int(0): \"who\"}, inplace=True)\n",
    "        return dataframe\n",
    "\n",
    "    def __call__(self):\n",
    "        return self.__result()\n"
   ],
   "metadata": {
    "collapsed": false,
    "ExecuteTime": {
     "end_time": "2024-02-14T10:18:24.393689517Z",
     "start_time": "2024-02-14T10:18:24.362307489Z"
    }
   },
   "id": "f42212208e0fb34e",
   "execution_count": 130
  },
  {
   "cell_type": "code",
   "outputs": [],
   "source": [
    "dataset=context_mongo('all_syn')\n",
    "li=[]\n",
    "for i in dataset.find({},{'_id':False})[23:24]:\n",
    "    li.append(i['name'])"
   ],
   "metadata": {
    "collapsed": false,
    "ExecuteTime": {
     "end_time": "2024-02-06T11:49:04.210896666Z",
     "start_time": "2024-02-06T11:49:04.095719407Z"
    }
   },
   "id": "dd20d1078d18cdf6",
   "execution_count": 95
  },
  {
   "cell_type": "code",
   "outputs": [],
   "source": [
    "class n_gram:\n",
    "    def __init__(self,data_set,ngram:list):\n",
    "        super(n_gram,self).__init__()\n",
    "        self.data_set=data_set\n",
    "        self.ngram=ngram\n",
    "        \n",
    "    def do_not_know(self):\n",
    "        list_of_task = []\n",
    "        for i in self.data_set:\n",
    "            word=i.split()\n",
    "            word=ngrams(word,2)\n",
    "            \n",
    "            result = [' '.join(ngram) for ngram in word]\n",
    "            if len(result) > 0:\n",
    "                list_of_task.append(result)\n",
    "        return list_of_task"
   ],
   "metadata": {
    "collapsed": false,
    "ExecuteTime": {
     "end_time": "2024-02-06T11:49:04.679156600Z",
     "start_time": "2024-02-06T11:49:04.572484926Z"
    }
   },
   "id": "79658ea50a60f7ea",
   "execution_count": 96
  },
  {
   "cell_type": "code",
   "outputs": [],
   "source": [
    "nnn=n_gram(li,[2,3])"
   ],
   "metadata": {
    "collapsed": false,
    "ExecuteTime": {
     "end_time": "2024-02-06T11:49:05.139720999Z",
     "start_time": "2024-02-06T11:49:05.061049600Z"
    }
   },
   "id": "a42a5924db69eef6",
   "execution_count": 97
  },
  {
   "cell_type": "code",
   "outputs": [
    {
     "name": "stdout",
     "output_type": "stream",
     "text": [
      "['طراحی اینفوگرام', 'اینفوگرام معماری', 'معماری ایمیل', 'ایمیل مارکتینگ']\n"
     ]
    }
   ],
   "source": [
    "for i in nnn.do_not_know():\n",
    "    print(i)"
   ],
   "metadata": {
    "collapsed": false,
    "ExecuteTime": {
     "end_time": "2024-02-06T11:50:06.205211220Z",
     "start_time": "2024-02-06T11:50:06.097932931Z"
    }
   },
   "id": "bd2325f3f6de93ed",
   "execution_count": 103
  },
  {
   "cell_type": "code",
   "outputs": [],
   "source": [],
   "metadata": {
    "collapsed": false,
    "ExecuteTime": {
     "end_time": "2024-02-06T11:49:53.343933664Z",
     "start_time": "2024-02-06T11:49:53.057120618Z"
    }
   },
   "id": "4e18085011cb4908",
   "execution_count": 101
  },
  {
   "cell_type": "code",
   "outputs": [
    {
     "ename": "SyntaxError",
     "evalue": "invalid syntax (1652023506.py, line 1)",
     "output_type": "error",
     "traceback": [
      "\u001B[0;36m  Cell \u001B[0;32mIn[52], line 1\u001B[0;36m\u001B[0m\n\u001B[0;31m    تغییر منوی سمت راست\u001B[0m\n\u001B[0m          ^\u001B[0m\n\u001B[0;31mSyntaxError\u001B[0m\u001B[0;31m:\u001B[0m invalid syntax\n"
     ]
    }
   ],
   "source": [
    "تغییر منوی سمت راست\n",
    "\n",
    "بیزینس ناظر کار\n"
   ],
   "metadata": {
    "collapsed": false,
    "ExecuteTime": {
     "end_time": "2024-02-06T11:38:25.008979945Z",
     "start_time": "2024-02-06T11:38:24.938420094Z"
    }
   },
   "id": "34f86d90442d87ee",
   "execution_count": 52
  },
  {
   "cell_type": "code",
   "outputs": [],
   "source": [
    "import pandas as pd"
   ],
   "metadata": {
    "collapsed": false,
    "ExecuteTime": {
     "end_time": "2024-02-14T05:20:56.696483897Z",
     "start_time": "2024-02-14T05:20:56.661552617Z"
    }
   },
   "id": "b4007f5aaef4f952",
   "execution_count": 52
  },
  {
   "cell_type": "code",
   "outputs": [],
   "source": [
    "dataset=pd.read_csv('../datasets/tasks_report (17).csv')"
   ],
   "metadata": {
    "collapsed": false,
    "ExecuteTime": {
     "end_time": "2024-02-14T05:30:20.258818886Z",
     "start_time": "2024-02-14T05:30:20.175631679Z"
    }
   },
   "id": "947af0bb323dd01a",
   "execution_count": 64
  },
  {
   "cell_type": "code",
   "outputs": [],
   "source": [
    "dataset=dataset[dataset['نام پروژه'].str.contains('واحد تولید')]['عنوان کار']"
   ],
   "metadata": {
    "collapsed": false,
    "ExecuteTime": {
     "end_time": "2024-02-14T05:30:30.323698676Z",
     "start_time": "2024-02-14T05:30:30.290660525Z"
    }
   },
   "id": "83d0b507560d9753",
   "execution_count": 65
  },
  {
   "cell_type": "code",
   "outputs": [],
   "source": [
    "dataset.dropna(inplace=True)\n",
    "dataset.drop_duplicates(inplace=True)"
   ],
   "metadata": {
    "collapsed": false,
    "ExecuteTime": {
     "end_time": "2024-02-14T05:35:51.455528394Z",
     "start_time": "2024-02-14T05:35:51.407899440Z"
    }
   },
   "id": "144cd334a29d99fd",
   "execution_count": 71
  },
  {
   "cell_type": "code",
   "outputs": [],
   "source": [
    "dataset.reset_index(drop=True,inplace=True)"
   ],
   "metadata": {
    "collapsed": false,
    "ExecuteTime": {
     "end_time": "2024-02-14T05:35:52.471967556Z",
     "start_time": "2024-02-14T05:35:52.431733867Z"
    }
   },
   "id": "e14ee1ccf3844add",
   "execution_count": 72
  },
  {
   "cell_type": "code",
   "outputs": [
    {
     "data": {
      "text/plain": "0            ویرایش اطلاعات کاربران از طریق ایمپورت فایل\n1      اصلاحات مربوط به عدم نمایش فیلد کارشناس در ثبت...\n2      ارسال پیامک با توجه به داکیومنت راهنمای پیوست شده\n3      اصلاح لایسنس به نحویکه به mac address وابسته ن...\n4                                          کارهای متفرقه\n                             ...                        \n909      نمایش کلمه undefined  در تعیین برچسب دستور جلسه\n910                                   آپدیت زیر دامنه ها\n911       ایجاد دکمه برای بازگرداندن وضعیت به حالت اولیه\n912    در پنل مدیریت چارت سازمانی از ماژول‌های پایه ب...\n913                                   تغیییر بعضی فریزها\nName: عنوان کار, Length: 914, dtype: object"
     },
     "execution_count": 73,
     "metadata": {},
     "output_type": "execute_result"
    }
   ],
   "source": [
    "dataset"
   ],
   "metadata": {
    "collapsed": false,
    "ExecuteTime": {
     "end_time": "2024-02-14T05:35:53.334701048Z",
     "start_time": "2024-02-14T05:35:53.293902213Z"
    }
   },
   "id": "1396f303a6890ec6",
   "execution_count": 73
  },
  {
   "cell_type": "code",
   "outputs": [],
   "source": [
    "dataset.to_csv('task.csv', index=False, encoding='utf-8')"
   ],
   "metadata": {
    "collapsed": false,
    "ExecuteTime": {
     "end_time": "2024-02-14T05:37:30.375647992Z",
     "start_time": "2024-02-14T05:37:30.315225853Z"
    }
   },
   "id": "35b95863f8660310",
   "execution_count": 74
  },
  {
   "cell_type": "code",
   "outputs": [],
   "source": [
    "c=pd.read_csv('../datasets/task.csv')"
   ],
   "metadata": {
    "collapsed": false,
    "ExecuteTime": {
     "end_time": "2024-02-14T05:47:50.424598174Z",
     "start_time": "2024-02-14T05:47:50.378151897Z"
    }
   },
   "id": "47978479a3f7331",
   "execution_count": 78
  },
  {
   "cell_type": "code",
   "outputs": [
    {
     "data": {
      "text/plain": "                                             عنوان کار\n0          ویرایش اطلاعات کاربران از طریق ایمپورت فایل\n1    اصلاحات مربوط به عدم نمایش فیلد کارشناس در ثبت...\n2    ارسال پیامک با توجه به داکیومنت راهنمای پیوست شده\n3    اصلاح لایسنس به نحویکه به mac address وابسته ن...\n4                                        کارهای متفرقه\n..                                                 ...\n909    نمایش کلمه undefined  در تعیین برچسب دستور جلسه\n910                                 آپدیت زیر دامنه ها\n911     ایجاد دکمه برای بازگرداندن وضعیت به حالت اولیه\n912  در پنل مدیریت چارت سازمانی از ماژول‌های پایه ب...\n913                                 تغیییر بعضی فریزها\n\n[914 rows x 1 columns]",
      "text/html": "<div>\n<style scoped>\n    .dataframe tbody tr th:only-of-type {\n        vertical-align: middle;\n    }\n\n    .dataframe tbody tr th {\n        vertical-align: top;\n    }\n\n    .dataframe thead th {\n        text-align: right;\n    }\n</style>\n<table border=\"1\" class=\"dataframe\">\n  <thead>\n    <tr style=\"text-align: right;\">\n      <th></th>\n      <th>عنوان کار</th>\n    </tr>\n  </thead>\n  <tbody>\n    <tr>\n      <th>0</th>\n      <td>ویرایش اطلاعات کاربران از طریق ایمپورت فایل</td>\n    </tr>\n    <tr>\n      <th>1</th>\n      <td>اصلاحات مربوط به عدم نمایش فیلد کارشناس در ثبت...</td>\n    </tr>\n    <tr>\n      <th>2</th>\n      <td>ارسال پیامک با توجه به داکیومنت راهنمای پیوست شده</td>\n    </tr>\n    <tr>\n      <th>3</th>\n      <td>اصلاح لایسنس به نحویکه به mac address وابسته ن...</td>\n    </tr>\n    <tr>\n      <th>4</th>\n      <td>کارهای متفرقه</td>\n    </tr>\n    <tr>\n      <th>...</th>\n      <td>...</td>\n    </tr>\n    <tr>\n      <th>909</th>\n      <td>نمایش کلمه undefined  در تعیین برچسب دستور جلسه</td>\n    </tr>\n    <tr>\n      <th>910</th>\n      <td>آپدیت زیر دامنه ها</td>\n    </tr>\n    <tr>\n      <th>911</th>\n      <td>ایجاد دکمه برای بازگرداندن وضعیت به حالت اولیه</td>\n    </tr>\n    <tr>\n      <th>912</th>\n      <td>در پنل مدیریت چارت سازمانی از ماژول‌های پایه ب...</td>\n    </tr>\n    <tr>\n      <th>913</th>\n      <td>تغیییر بعضی فریزها</td>\n    </tr>\n  </tbody>\n</table>\n<p>914 rows × 1 columns</p>\n</div>"
     },
     "execution_count": 79,
     "metadata": {},
     "output_type": "execute_result"
    }
   ],
   "source": [
    "c[['عنوان کار']]"
   ],
   "metadata": {
    "collapsed": false,
    "ExecuteTime": {
     "end_time": "2024-02-14T05:47:55.740990771Z",
     "start_time": "2024-02-14T05:47:55.692391728Z"
    }
   },
   "id": "9a510150d6e844eb",
   "execution_count": 79
  },
  {
   "cell_type": "code",
   "outputs": [],
   "source": [],
   "metadata": {
    "collapsed": false
   },
   "id": "a0ed8a13ca26d561"
  }
 ],
 "metadata": {
  "kernelspec": {
   "display_name": "Python 3",
   "language": "python",
   "name": "python3"
  },
  "language_info": {
   "codemirror_mode": {
    "name": "ipython",
    "version": 2
   },
   "file_extension": ".py",
   "mimetype": "text/x-python",
   "name": "python",
   "nbconvert_exporter": "python",
   "pygments_lexer": "ipython2",
   "version": "2.7.6"
  }
 },
 "nbformat": 4,
 "nbformat_minor": 5
}
